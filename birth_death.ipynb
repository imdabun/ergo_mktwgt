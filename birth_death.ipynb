{
 "cells": [
  {
   "cell_type": "code",
   "execution_count": 1,
   "id": "c82c3e74-95b9-4be8-9a50-462743c9ca0d",
   "metadata": {},
   "outputs": [],
   "source": [
    "import numpy as np\n",
    "from numpy.linalg import matrix_power, eigvals\n",
    "import pandas as pd\n",
    "from matplotlib import pyplot as plt"
   ]
  },
  {
   "cell_type": "code",
   "execution_count": 14,
   "id": "5d3118fe-3957-4eb6-9a04-19246ca2ab9a",
   "metadata": {},
   "outputs": [],
   "source": [
    "p_var = .25\n",
    "r_var = .5\n",
    "q_var = 1 - p_var - r_var\n",
    "N = 10\n",
    "\n",
    "def create_transition(p, r, q, N):\n",
    "    head = np.array([p_var + r_var, q_var] + [0 for _ in range(N-2)])\n",
    "    tail = np.array([0 for _ in range(N-2)] + [p_var, r_var + q_var])\n",
    "    body = np.array([p_var, r_var, q_var] + [0 for _ in range(N-3)])\n",
    "    return np.stack([head] + [np.roll(body, i) for i in range(N-2)] + [tail])\n",
    "\n",
    "def get_eigen(P):\n",
    "    return np.sort(eigvals(P))[-2]"
   ]
  },
  {
   "cell_type": "code",
   "execution_count": 15,
   "id": "f3d50d51-a03b-4f8c-a5f3-5ceb3124041c",
   "metadata": {},
   "outputs": [],
   "source": [
    "# Plot evolution of eigenvalues of transition matrix\n",
    "x = np.arange(3, 100)\n",
    "y = np.array([get_eigen(create_transition(p_var, r_var, q_var, k)) for k in x])"
   ]
  },
  {
   "cell_type": "code",
   "execution_count": 17,
   "id": "d4711e9d-4e6a-4bc5-a8b2-b023655e1a29",
   "metadata": {},
   "outputs": [
    {
     "data": {
      "image/png": "[encoded data removed]",
      "text/plain": [
       "<Figure size 432x288 with 1 Axes>"
      ]
     },
     "metadata": {
      "needs_background": "light"
     },
     "output_type": "display_data"
    }
   ],
   "source": [
    "plt.plot(x, y)\n",
    "plt.xlabel(\"N\")\n",
    "plt.ylabel(\"Largest non-1 eigenvalue\")\n",
    "plt.show()"
   ]
  },
  {
   "cell_type": "markdown",
   "id": "eaef9cab-c4e6-4be9-a0a9-39be7029de28",
   "metadata": {},
   "source": [
    "# Simulations"
   ]
  },
  {
   "cell_type": "code",
   "execution_count": 18,
   "id": "a9ded505-60d7-4773-86de-127898f11607",
   "metadata": {},
   "outputs": [],
   "source": [
    "K = 5\n",
    "M = 1000\n",
    "P = create_transition(p_var, r_var, q_var, N)\n",
    "\n",
    "# Theoretical Target\n",
    "pi = np.array([((i+1)/N)**K - (i/N)**K for i in range(N)])\n",
    "\n",
    "for t in range(100):\n",
    "    P_t = matrix_power(P, t+1)\n",
    "    "
   ]
  },
  {
   "cell_type": "code",
   "execution_count": null,
   "id": "9207e99a-ff71-4d98-9c5e-a4c441901592",
   "metadata": {},
   "outputs": [],
   "source": []
  }
 ],
 "metadata": {
  "kernelspec": {
   "display_name": "Python 3",
   "language": "python",
   "name": "python3"
  },
  "language_info": {
   "codemirror_mode": {
    "name": "ipython",
    "version": 3
   },
   "file_extension": ".py",
   "mimetype": "text/x-python",
   "name": "python",
   "nbconvert_exporter": "python",
   "pygments_lexer": "ipython3",
   "version": "3.8.12"
  }
 },
 "nbformat": 4,
 "nbformat_minor": 5
}
