{
 "cells": [
  {
   "cell_type": "code",
   "execution_count": 1,
   "id": "c82c3e74-95b9-4be8-9a50-462743c9ca0d",
   "metadata": {},
   "outputs": [],
   "source": [
    "import numpy as np\n",
    "from numpy.linalg import matrix_power, eigvals\n",
    "import pandas as pd\n",
    "from matplotlib import pyplot as plt"
   ]
  },
  {
   "cell_type": "code",
   "execution_count": 2,
   "id": "5d3118fe-3957-4eb6-9a04-19246ca2ab9a",
   "metadata": {},
   "outputs": [],
   "source": [
    "p_var = .25\n",
    "r_var = .5\n",
    "q_var = 1 - p_var - r_var\n",
    "N = 10\n",
    "\n",
    "def create_transition(p, r, q, N):\n",
    "    head = np.array([p_var + r_var, q_var] + [0 for _ in range(N-2)])\n",
    "    tail = np.array([0 for _ in range(N-2)] + [p_var, r_var + q_var])\n",
    "    body = np.array([p_var, r_var, q_var] + [0 for _ in range(N-3)])\n",
    "    return np.stack([head] + [np.roll(body, i) for i in range(N-2)] + [tail])\n",
    "\n",
    "def get_eigen(P):\n",
    "    return np.sort(eigvals(P))[-2]"
   ]
  },
  {
   "cell_type": "code",
   "execution_count": null,
   "id": "f3d50d51-a03b-4f8c-a5f3-5ceb3124041c",
   "metadata": {},
   "outputs": [],
   "source": [
    "# Plot evolution of eigenvalues of transition matrix\n",
    "x = np.arange(3, 1000)\n",
    "y = np.log(1-np.array([get_eigen(create_transition(p_var, r_var, q_var, k)) for k in x])) / np.log(x)"
   ]
  },
  {
   "cell_type": "code",
   "execution_count": null,
   "id": "d4711e9d-4e6a-4bc5-a8b2-b023655e1a29",
   "metadata": {},
   "outputs": [],
   "source": [
    "plt.plot(x, y)\n",
    "plt.xlabel(\"N\")\n",
    "plt.ylabel(\"Log of Spectral Gap\")\n",
    "plt.show()"
   ]
  },
  {
   "cell_type": "code",
   "execution_count": null,
   "id": "1a08c30a-3ff8-469f-8489-073a5e9d1977",
   "metadata": {},
   "outputs": [],
   "source": [
    "# Plot evolution of eigenvalues of transition matrix\n",
    "x = np.arange(3, 1000)\n",
    "y = np.log(1 - np.array([0.5 + 0.5 * np.cos(np.pi/(k+1)) for k in x])) / np.log(x)"
   ]
  },
  {
   "cell_type": "code",
   "execution_count": null,
   "id": "3d531664-63a2-47af-aded-b67f0daaf2b0",
   "metadata": {},
   "outputs": [],
   "source": [
    "plt.plot(x, y)\n",
    "plt.xlabel(\"N\")\n",
    "plt.ylabel(\"Log of Spectral Gap\")\n",
    "plt.show()"
   ]
  },
  {
   "cell_type": "code",
   "execution_count": null,
   "id": "d7a1334c-8253-4392-a045-1183ba2482b7",
   "metadata": {},
   "outputs": [],
   "source": []
  }
 ],
 "metadata": {
  "kernelspec": {
   "display_name": "Python 3 (ipykernel)",
   "language": "python",
   "name": "python3"
  },
  "language_info": {
   "codemirror_mode": {
    "name": "ipython",
    "version": 3
   },
   "file_extension": ".py",
   "mimetype": "text/x-python",
   "name": "python",
   "nbconvert_exporter": "python",
   "pygments_lexer": "ipython3",
   "version": "3.9.13"
  }
 },
 "nbformat": 4,
 "nbformat_minor": 5
}
